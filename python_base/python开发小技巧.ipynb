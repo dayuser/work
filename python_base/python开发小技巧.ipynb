{
 "cells": [
  {
   "cell_type": "markdown",
   "source": "# 集合类型\npython的内置方法",
   "metadata": {
    "cell_id": "00000-58b06707-b272-4b4e-92c6-06d3a050c4ed",
    "tags": [],
    "deepnote_cell_type": "markdown",
    "deepnote_cell_height": 120.390625
   }
  },
  {
   "cell_type": "markdown",
   "source": "1. 列表与元祖\n\n最基本的两个集合类型，都表示对象序列\n\n根本区别：\n\n   1. 列表是动态的，其大小可以改变\n   2. 元组是不可改变，一但创建就不能修改",
   "metadata": {
    "cell_id": "00001-d24d78e1-5ba9-4046-983f-c4b4afd9da93",
    "tags": [],
    "deepnote_cell_type": "markdown",
    "deepnote_cell_height": 203.953125
   }
  },
  {
   "cell_type": "markdown",
   "source": "列表推导式",
   "metadata": {
    "cell_id": "00002-06f7a9f2-4da6-4011-a979-dc3fdf2529c8",
    "tags": [],
    "deepnote_cell_type": "markdown",
    "deepnote_cell_height": 52.390625
   }
  },
  {
   "cell_type": "code",
   "metadata": {
    "cell_id": "00002-1cbfb8b4-2669-43e4-b707-bac8df9f7218",
    "execution_millis": 2,
    "execution_start": 1605963219353,
    "output_cleared": false,
    "source_hash": "1357069b",
    "tags": [],
    "deepnote_cell_type": "code",
    "deepnote_cell_height": 190.1875
   },
   "source": "evens =[]\nfor i in range(10):\n    if i%2 ==0:\n        evens.append(i)\nevens",
   "execution_count": null,
   "outputs": [
    {
     "data": {
      "text/plain": "[0, 2, 4, 6, 8]"
     },
     "execution_count": 2,
     "metadata": {},
     "output_type": "execute_result"
    }
   ]
  },
  {
   "cell_type": "markdown",
   "source": "这种写法可能适用于C语言，但在python中的实际运行速度很慢，原因如下。\n* 解释器在每次循环中都需要判断序列中哪一部分需要修改\n* 需要用一个计数器来跟踪需要处理的元素\n* 由于append()是一个列表方法，所以每次遍历时还需啊哟额外执行一个查询函数",
   "metadata": {
    "cell_id": "00003-2f1d49bc-eb16-4b26-b0a6-5e2608c6c262",
    "tags": [],
    "deepnote_cell_type": "markdown",
    "deepnote_cell_height": 153.5625
   }
  },
  {
   "cell_type": "code",
   "metadata": {
    "cell_id": "00004-a5297c49-1b18-4e44-af91-7a59995b98cb",
    "execution_millis": 2,
    "execution_start": 1605963614339,
    "output_cleared": false,
    "source_hash": "cc246af5",
    "tags": [],
    "deepnote_cell_type": "code",
    "deepnote_cell_height": 118.1875
   },
   "source": "[ i for i in range(10) if i % 2 ==0]",
   "execution_count": null,
   "outputs": [
    {
     "data": {
      "text/plain": "[0, 2, 4, 6, 8]"
     },
     "execution_count": 3,
     "metadata": {},
     "output_type": "execute_result"
    }
   ]
  },
  {
   "cell_type": "markdown",
   "source": "这种写法除了更加高效之外，也更加简短，涉及的语法元素也更少， 在大型项目中，这种也意味着更少的错误，代码也更容易阅读和理解",
   "metadata": {
    "cell_id": "00005-f04ebacc-28b4-4e07-a217-bf6ffddd507c",
    "tags": [],
    "deepnote_cell_type": "markdown",
    "deepnote_cell_height": 52.390625
   }
  },
  {
   "cell_type": "markdown",
   "source": "其他习法",
   "metadata": {
    "cell_id": "00007-bd6ec08d-5904-4b4f-89c3-ca1aa0ed01b9",
    "tags": [],
    "deepnote_cell_type": "markdown",
    "deepnote_cell_height": 52.390625
   }
  },
  {
   "cell_type": "markdown",
   "source": "1. 在循环中使用序列时,获取其索引",
   "metadata": {
    "cell_id": "00008-7e1cefae-64d2-44e2-a9e2-4935c240c245",
    "tags": [],
    "deepnote_cell_type": "markdown",
    "deepnote_cell_height": 69.390625
   }
  },
  {
   "cell_type": "code",
   "metadata": {
    "cell_id": "00009-c22e6c93-5809-4adf-8d09-2a155f3b0139",
    "execution_millis": 3,
    "execution_start": 1605964123058,
    "output_cleared": false,
    "source_hash": "928461a2",
    "tags": [],
    "deepnote_cell_type": "code",
    "deepnote_cell_height": 206.5625
   },
   "source": "i=0\nfor element in ['one','two','three']:\n    print(i,element)\n    i+=1",
   "execution_count": null,
   "outputs": [
    {
     "name": "stdout",
     "output_type": "stream",
     "text": "0 one\n1 two\n2 three\n"
    }
   ]
  },
  {
   "cell_type": "markdown",
   "source": " 可以替换为",
   "metadata": {
    "cell_id": "00010-0a6fb77b-d8fb-42f4-ad13-de63879e70f7",
    "tags": [],
    "deepnote_cell_type": "markdown",
    "deepnote_cell_height": 52.390625
   }
  },
  {
   "cell_type": "code",
   "metadata": {
    "cell_id": "00010-89788f01-b3f1-42d8-abb9-c4af5be6769b",
    "execution_millis": 2,
    "execution_start": 1605964225882,
    "output_cleared": false,
    "source_hash": "a6524115",
    "tags": [],
    "deepnote_cell_type": "code",
    "deepnote_cell_height": 170.5625
   },
   "source": "for i, element in enumerate(['one','two','three']):\n    print(i,element)",
   "execution_count": null,
   "outputs": [
    {
     "name": "stdout",
     "output_type": "stream",
     "text": "0 one\n1 two\n2 three\n"
    }
   ]
  },
  {
   "cell_type": "markdown",
   "source": "2. 如果需要一个一个合并多个列表中的元素，可以用zip()函数",
   "metadata": {
    "cell_id": "00012-8a7229d3-f2f9-4db0-8c2c-905e69befeb4",
    "tags": [],
    "deepnote_cell_type": "markdown",
    "deepnote_cell_height": 69.390625
   }
  },
  {
   "cell_type": "code",
   "metadata": {
    "cell_id": "00013-04abdc46-5ceb-4970-b670-19559c85d1fd",
    "execution_millis": 2,
    "execution_start": 1605964353884,
    "output_cleared": false,
    "source_hash": "6c93eddb",
    "tags": [],
    "deepnote_cell_type": "code",
    "deepnote_cell_height": 170.5625
   },
   "source": "for item in  zip([1,2,3],[4,5,6]):\n    print(item)",
   "execution_count": null,
   "outputs": [
    {
     "name": "stdout",
     "output_type": "stream",
     "text": "(1, 4)\n(2, 5)\n(3, 6)\n"
    }
   ]
  },
  {
   "cell_type": "markdown",
   "source": "注意，对zip()函数返回的结果再次调用zip(),可以将其恢复原状",
   "metadata": {
    "cell_id": "00014-b142752b-5456-492d-b547-fbfe2e2f35ae",
    "tags": [],
    "deepnote_cell_type": "markdown",
    "deepnote_cell_height": 52.390625
   }
  },
  {
   "cell_type": "code",
   "metadata": {
    "cell_id": "00015-e415f495-bda6-4961-8da4-13476787fcbc",
    "execution_millis": 1,
    "execution_start": 1605964487426,
    "output_cleared": false,
    "source_hash": "aa0a36d8",
    "tags": [],
    "deepnote_cell_type": "code",
    "deepnote_cell_height": 150.375
   },
   "source": "for item in zip(*zip([1,2,3],[4,5,6])):\n    print(item)",
   "execution_count": null,
   "outputs": [
    {
     "name": "stdout",
     "output_type": "stream",
     "text": "(1, 2, 3)\n(4, 5, 6)\n"
    }
   ]
  },
  {
   "cell_type": "markdown",
   "source": "3. 序列解包（sequence unpacking），这种方法并不限于列表和元组，而是适用于任何序列类型（包括字符串和字节序列）。只要赋值运算符左右的变量数目和序列中的元素数目相等",
   "metadata": {
    "cell_id": "00016-aa398102-3893-4e69-94cd-7040d6d31e0e",
    "tags": [],
    "deepnote_cell_type": "markdown",
    "deepnote_cell_height": 69.390625
   }
  },
  {
   "cell_type": "code",
   "metadata": {
    "cell_id": "00017-0c5fd490-e61a-4c89-a359-c1c9b3221cfd",
    "execution_millis": 2,
    "execution_start": 1605964894614,
    "output_cleared": false,
    "source_hash": "73d4d1c0",
    "tags": [],
    "deepnote_cell_type": "code",
    "deepnote_cell_height": 172.1875,
    "deepnote_output_heights": [
     21.1875
    ]
   },
   "source": "first,second,third = \"foo\",'bar',100\nfirst\nsecond\nthird",
   "execution_count": null,
   "outputs": [
    {
     "data": {
      "text/plain": "100"
     },
     "execution_count": 9,
     "metadata": {},
     "output_type": "execute_result"
    }
   ]
  },
  {
   "cell_type": "markdown",
   "source": "解包还可以利用带星号的表达式获取单个变量中的多个元素，只要解释没有歧议即可",
   "metadata": {
    "cell_id": "00018-d2277115-d45f-4e24-b451-9d5c42b6de9a",
    "tags": [],
    "deepnote_cell_type": "markdown",
    "deepnote_cell_height": 52.390625
   }
  },
  {
   "cell_type": "code",
   "metadata": {
    "cell_id": "00019-3782382a-68d2-4cc7-9cc9-ff8ff76cd5a2",
    "execution_millis": 2,
    "execution_start": 1605965195062,
    "output_cleared": false,
    "source_hash": "425b9f18",
    "tags": [],
    "owner_user_id": "9b0760ba-3411-45b0-8bd6-a9ad56544035",
    "deepnote_cell_type": "code",
    "deepnote_cell_height": 262.1875,
    "deepnote_output_heights": [
     21.1875
    ]
   },
   "source": "# 带星号的表达式 可以获取序列的剩余部分\nfirst,second,*third = \"foo\",'bar',100,23\nthird\n# 带星号的表达式 可以获取序列的中间部分\nfirst,*second,third = \"foo\",'bar',100,23\nsecond\n# 嵌套解包 注意输出单个元素 返回左边所对应的值，输出全部的元素 返回一个tuple元素是每个值\n(a,b),(c,d)=(1,2),(3,4)\na,b,c,d",
   "execution_count": null,
   "outputs": [
    {
     "data": {
      "text/plain": "(1, 2, 3, 4)"
     },
     "execution_count": 14,
     "metadata": {},
     "output_type": "execute_result"
    }
   ]
  },
  {
   "cell_type": "markdown",
   "source": "2.字典",
   "metadata": {
    "cell_id": "00020-9e8efb2c-4d8d-4613-a298-8d9ccd9ad240",
    "tags": [],
    "deepnote_cell_type": "markdown",
    "deepnote_cell_height": 52.390625
   }
  },
  {
   "cell_type": "code",
   "metadata": {
    "cell_id": "00021-f4d4314c-7cba-40e2-88ac-d7eea0edc5b3",
    "deepnote_cell_type": "code",
    "deepnote_cell_height": 84
   },
   "source": "squares ={number:number**2 for number in range(100)}\n",
   "execution_count": null,
   "outputs": []
  },
  {
   "cell_type": "code",
   "metadata": {
    "cell_id": "00022-7624ea97-8835-4c5b-b96b-b07f7a0de6fa",
    "deepnote_cell_type": "code",
    "deepnote_cell_height": 66
   },
   "source": "",
   "execution_count": null,
   "outputs": []
  },
  {
   "cell_type": "markdown",
   "source": "<a style='text-decoration:none;line-height:16px;display:flex;color:#5B5B62;padding:10px;justify-content:end;' href='https://deepnote.com?utm_source=created-in-deepnote-cell&projectId=5b281c91-03db-4230-91f5-eb5b0507f930' target=\"_blank\">\n<img alt='Created in deepnote.com' style='display:inline;max-height:16px;margin:0px;margin-right:7.5px;' src='data:image/svg+xml;base64,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' > </img>\nCreated in <span style='font-weight:600;margin-left:4px;'>Deepnote</span></a>",
   "metadata": {
    "tags": [],
    "created_in_deepnote_cell": true,
    "deepnote_cell_type": "markdown"
   }
  }
 ],
 "nbformat": 4,
 "nbformat_minor": 2,
 "metadata": {
  "deepnote_execution_queue": [],
  "deepnote_notebook_id": "bc2a5416-dd09-4ad4-9b7f-7e5a513fb9cb",
  "kernelspec": {
   "display_name": "Python 3",
   "language": "python",
   "name": "python3"
  },
  "language_info": {
   "codemirror_mode": {
    "name": "ipython",
    "version": 3
   },
   "file_extension": ".py",
   "mimetype": "text/x-python",
   "name": "python",
   "nbconvert_exporter": "python",
   "pygments_lexer": "ipython3",
   "version": "3.7.4"
  },
  "deepnote": {}
 }
}