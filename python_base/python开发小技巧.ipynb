{
 "cells": [
  {
   "cell_type": "markdown",
   "metadata": {
    "cell_id": "00000-58b06707-b272-4b4e-92c6-06d3a050c4ed",
    "deepnote_cell_type": "markdown",
    "tags": []
   },
   "source": [
    "# 集合类型\n",
    "python的内置方法"
   ]
  },
  {
   "cell_type": "markdown",
   "metadata": {
    "cell_id": "00001-d24d78e1-5ba9-4046-983f-c4b4afd9da93",
    "deepnote_cell_type": "markdown",
    "tags": []
   },
   "source": [
    "1. 列表与元祖\n",
    "\n",
    "最基本的两个集合类型，都表示对象序列\n",
    "\n",
    "根本区别：\n",
    "\n",
    "   1. 列表是动态的，其大小可以改变\n",
    "   2. 元组是不可改变，一但创建就不能修改"
   ]
  },
  {
   "cell_type": "markdown",
   "metadata": {
    "cell_id": "00002-06f7a9f2-4da6-4011-a979-dc3fdf2529c8",
    "deepnote_cell_type": "markdown",
    "tags": []
   },
   "source": [
    "列表推导式"
   ]
  },
  {
   "cell_type": "code",
   "execution_count": 2,
   "metadata": {
    "cell_id": "00002-1cbfb8b4-2669-43e4-b707-bac8df9f7218",
    "deepnote_cell_type": "code",
    "execution_millis": 2,
    "execution_start": 1605963219353,
    "output_cleared": false,
    "source_hash": "1357069b",
    "tags": []
   },
   "outputs": [
    {
     "data": {
      "text/plain": [
       "[0, 2, 4, 6, 8]"
      ]
     },
     "execution_count": 2,
     "metadata": {},
     "output_type": "execute_result"
    }
   ],
   "source": [
    "evens =[]\n",
    "for i in range(10):\n",
    "    if i%2 ==0:\n",
    "        evens.append(i)\n",
    "evens"
   ]
  },
  {
   "cell_type": "markdown",
   "metadata": {
    "cell_id": "00003-2f1d49bc-eb16-4b26-b0a6-5e2608c6c262",
    "deepnote_cell_type": "markdown",
    "tags": []
   },
   "source": [
    "这种写法可能适用于C语言，但在python中的实际运行速度很慢，原因如下。\n",
    "* 解释器在每次循环中都需要判断序列中哪一部分需要修改\n",
    "* 需要用一个计数器来跟踪需要处理的元素\n",
    "* 由于append()是一个列表方法，所以每次遍历时还需啊哟额外执行一个查询函数"
   ]
  },
  {
   "cell_type": "code",
   "execution_count": 3,
   "metadata": {
    "cell_id": "00004-a5297c49-1b18-4e44-af91-7a59995b98cb",
    "deepnote_cell_type": "code",
    "execution_millis": 2,
    "execution_start": 1605963614339,
    "output_cleared": false,
    "source_hash": "cc246af5",
    "tags": []
   },
   "outputs": [
    {
     "data": {
      "text/plain": [
       "[0, 2, 4, 6, 8]"
      ]
     },
     "execution_count": 3,
     "metadata": {},
     "output_type": "execute_result"
    }
   ],
   "source": [
    "[ i for i in range(10) if i % 2 ==0]"
   ]
  },
  {
   "cell_type": "markdown",
   "metadata": {
    "cell_id": "00005-f04ebacc-28b4-4e07-a217-bf6ffddd507c",
    "deepnote_cell_type": "markdown",
    "tags": []
   },
   "source": [
    "这种写法除了更加高效之外，也更加简短，涉及的语法元素也更少， 在大型项目中，这种也意味着更少的错误，代码也更容易阅读和理解"
   ]
  },
  {
   "cell_type": "markdown",
   "metadata": {
    "cell_id": "00007-bd6ec08d-5904-4b4f-89c3-ca1aa0ed01b9",
    "deepnote_cell_type": "markdown",
    "tags": []
   },
   "source": [
    "其他习法"
   ]
  },
  {
   "cell_type": "markdown",
   "metadata": {
    "cell_id": "00008-7e1cefae-64d2-44e2-a9e2-4935c240c245",
    "deepnote_cell_type": "markdown",
    "tags": []
   },
   "source": [
    "1. 在循环中使用序列时,获取其索引"
   ]
  },
  {
   "cell_type": "code",
   "execution_count": 4,
   "metadata": {
    "cell_id": "00009-c22e6c93-5809-4adf-8d09-2a155f3b0139",
    "deepnote_cell_type": "code",
    "execution_millis": 3,
    "execution_start": 1605964123058,
    "output_cleared": false,
    "source_hash": "928461a2",
    "tags": []
   },
   "outputs": [
    {
     "name": "stdout",
     "output_type": "stream",
     "text": [
      "0 one\n",
      "1 two\n",
      "2 three\n"
     ]
    }
   ],
   "source": [
    "i=0\n",
    "for element in ['one','two','three']:\n",
    "    print(i,element)\n",
    "    i+=1"
   ]
  },
  {
   "cell_type": "markdown",
   "metadata": {
    "cell_id": "00010-0a6fb77b-d8fb-42f4-ad13-de63879e70f7",
    "deepnote_cell_type": "markdown",
    "tags": []
   },
   "source": [
    " 可以替换为"
   ]
  },
  {
   "cell_type": "code",
   "execution_count": 5,
   "metadata": {
    "cell_id": "00010-89788f01-b3f1-42d8-abb9-c4af5be6769b",
    "deepnote_cell_type": "code",
    "execution_millis": 2,
    "execution_start": 1605964225882,
    "output_cleared": false,
    "source_hash": "a6524115",
    "tags": []
   },
   "outputs": [
    {
     "name": "stdout",
     "output_type": "stream",
     "text": [
      "0 one\n",
      "1 two\n",
      "2 three\n"
     ]
    }
   ],
   "source": [
    "for i, element in enumerate(['one','two','three']):\n",
    "    print(i,element)"
   ]
  },
  {
   "cell_type": "markdown",
   "metadata": {
    "cell_id": "00012-8a7229d3-f2f9-4db0-8c2c-905e69befeb4",
    "deepnote_cell_type": "markdown",
    "tags": []
   },
   "source": [
    "2. 如果需要一个一个合并多个列表中的元素，可以用zip()函数"
   ]
  },
  {
   "cell_type": "code",
   "execution_count": 6,
   "metadata": {
    "cell_id": "00013-04abdc46-5ceb-4970-b670-19559c85d1fd",
    "deepnote_cell_type": "code",
    "execution_millis": 2,
    "execution_start": 1605964353884,
    "output_cleared": false,
    "source_hash": "6c93eddb",
    "tags": []
   },
   "outputs": [
    {
     "name": "stdout",
     "output_type": "stream",
     "text": [
      "(1, 4)\n",
      "(2, 5)\n",
      "(3, 6)\n"
     ]
    }
   ],
   "source": [
    "for item in  zip([1,2,3],[4,5,6]):\n",
    "    print(item)"
   ]
  },
  {
   "cell_type": "markdown",
   "metadata": {
    "cell_id": "00014-b142752b-5456-492d-b547-fbfe2e2f35ae",
    "deepnote_cell_type": "markdown",
    "tags": []
   },
   "source": [
    "注意，对zip()函数返回的结果再次调用zip(),可以将其恢复原状"
   ]
  },
  {
   "cell_type": "code",
   "execution_count": 7,
   "metadata": {
    "cell_id": "00015-e415f495-bda6-4961-8da4-13476787fcbc",
    "deepnote_cell_type": "code",
    "execution_millis": 1,
    "execution_start": 1605964487426,
    "output_cleared": false,
    "source_hash": "aa0a36d8",
    "tags": []
   },
   "outputs": [
    {
     "name": "stdout",
     "output_type": "stream",
     "text": [
      "(1, 2, 3)\n",
      "(4, 5, 6)\n"
     ]
    }
   ],
   "source": [
    "for item in zip(*zip([1,2,3],[4,5,6])):\n",
    "    print(item)"
   ]
  },
  {
   "cell_type": "markdown",
   "metadata": {
    "cell_id": "00016-aa398102-3893-4e69-94cd-7040d6d31e0e",
    "deepnote_cell_type": "markdown",
    "tags": []
   },
   "source": [
    "3. 序列解包（sequence unpacking），这种方法并不限于列表和元组，而是适用于任何序列类型（包括字符串和字节序列）。只要赋值运算符左右的变量数目和序列中的元素数目相等"
   ]
  },
  {
   "cell_type": "code",
   "execution_count": 9,
   "metadata": {
    "cell_id": "00017-0c5fd490-e61a-4c89-a359-c1c9b3221cfd",
    "deepnote_cell_type": "code",
    "execution_millis": 2,
    "execution_start": 1605964894614,
    "output_cleared": false,
    "source_hash": "73d4d1c0",
    "tags": []
   },
   "outputs": [
    {
     "data": {
      "text/plain": [
       "100"
      ]
     },
     "execution_count": 9,
     "metadata": {},
     "output_type": "execute_result"
    }
   ],
   "source": [
    "first,second,third = \"foo\",'bar',100\n",
    "first\n",
    "second\n",
    "third"
   ]
  },
  {
   "cell_type": "markdown",
   "metadata": {
    "cell_id": "00018-d2277115-d45f-4e24-b451-9d5c42b6de9a",
    "deepnote_cell_type": "markdown",
    "tags": []
   },
   "source": [
    "解包还可以利用带星号的表达式获取单个变量中的多个元素，只要解释没有歧议即可"
   ]
  },
  {
   "cell_type": "code",
   "execution_count": 14,
   "metadata": {
    "cell_id": "00019-3782382a-68d2-4cc7-9cc9-ff8ff76cd5a2",
    "deepnote_cell_type": "code",
    "execution_millis": 2,
    "execution_start": 1605965195062,
    "output_cleared": false,
    "source_hash": "425b9f18",
    "tags": []
   },
   "outputs": [
    {
     "data": {
      "text/plain": [
       "(1, 2, 3, 4)"
      ]
     },
     "execution_count": 14,
     "metadata": {},
     "output_type": "execute_result"
    }
   ],
   "source": [
    "# 带星号的表达式 可以获取序列的剩余部分\n",
    "first,second,*third = \"foo\",'bar',100,23\n",
    "third\n",
    "# 带星号的表达式 可以获取序列的中间部分\n",
    "first,*second,third = \"foo\",'bar',100,23\n",
    "second\n",
    "# 嵌套解包 注意输出单个元素 返回左边所对应的值，输出全部的元素 返回一个tuple元素是每个值\n",
    "(a,b),(c,d)=(1,2),(3,4)\n",
    "a,b,c,d"
   ]
  },
  {
   "cell_type": "markdown",
   "metadata": {
    "cell_id": "00020-9e8efb2c-4d8d-4613-a298-8d9ccd9ad240",
    "deepnote_cell_type": "markdown",
    "tags": []
   },
   "source": [
    "2.字典"
   ]
  },
  {
   "cell_type": "code",
   "execution_count": 5,
   "metadata": {},
   "outputs": [],
   "source": [
    "squares ={number:number**2 for number in range(100)}\n"
   ]
  },
  {
   "cell_type": "code",
   "execution_count": null,
   "metadata": {},
   "outputs": [],
   "source": []
  }
 ],
 "metadata": {
  "deepnote_execution_queue": [],
  "deepnote_notebook_id": "bc2a5416-dd09-4ad4-9b7f-7e5a513fb9cb",
  "kernelspec": {
   "display_name": "Python 3",
   "language": "python",
   "name": "python3"
  },
  "language_info": {
   "codemirror_mode": {
    "name": "ipython",
    "version": 3
   },
   "file_extension": ".py",
   "mimetype": "text/x-python",
   "name": "python",
   "nbconvert_exporter": "python",
   "pygments_lexer": "ipython3",
   "version": "3.7.4"
  }
 },
 "nbformat": 4,
 "nbformat_minor": 2
}
