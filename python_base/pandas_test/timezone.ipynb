{
 "cells": [
  {
   "cell_type": "markdown",
   "source": "# 时区问题",
   "metadata": {
    "tags": [],
    "cell_id": "00001-54a472dc-2bf5-4494-830f-c6dc556b24a5",
    "deepnote_cell_type": "markdown",
    "deepnote_cell_height": 82
   }
  },
  {
   "cell_type": "code",
   "metadata": {
    "tags": [],
    "cell_id": "00001-df886185-8ec0-4f33-bdc7-51c449038e97",
    "deepnote_to_be_reexecuted": false,
    "source_hash": "9b82ee11",
    "execution_start": 1635252700585,
    "execution_millis": 1,
    "deepnote_cell_type": "code",
    "deepnote_cell_height": 81
   },
   "source": "import pandas as pd",
   "execution_count": null,
   "outputs": []
  },
  {
   "cell_type": "code",
   "metadata": {
    "tags": [],
    "cell_id": "00002-d035cccf-9fa6-4cdd-90b6-1547bcad7639",
    "deepnote_to_be_reexecuted": false,
    "source_hash": "d4f9e985",
    "execution_start": 1635252700587,
    "execution_millis": 34,
    "deepnote_cell_type": "code",
    "deepnote_cell_height": 81
   },
   "source": "df = pd.date_range(\"2021-01-01\", periods=10, freq=\"H\")",
   "execution_count": null,
   "outputs": []
  },
  {
   "cell_type": "code",
   "metadata": {
    "tags": [],
    "cell_id": "00003-c466b1ee-c10e-433c-9404-dd5983f9c1db",
    "deepnote_to_be_reexecuted": false,
    "source_hash": "b623e53d",
    "execution_start": 1635252700622,
    "execution_millis": 264010,
    "deepnote_cell_type": "code",
    "deepnote_cell_height": 81
   },
   "source": "",
   "execution_count": null,
   "outputs": []
  },
  {
   "cell_type": "code",
   "metadata": {
    "tags": [],
    "cell_id": "00003-b7d34a93-3b1e-4712-ab40-44dc9fad94e7",
    "deepnote_to_be_reexecuted": false,
    "source_hash": "7f50c8d6",
    "execution_start": 1635252700623,
    "execution_millis": 1128,
    "deepnote_cell_type": "code",
    "deepnote_cell_height": 231.125
   },
   "source": "dfgmt = df.tz_localize(\"GMT\")\nprint(dfgmt)",
   "execution_count": null,
   "outputs": [
    {
     "name": "stdout",
     "text": "DatetimeIndex(['2021-01-01 00:00:00+00:00', '2021-01-01 01:00:00+00:00',\n               '2021-01-01 02:00:00+00:00', '2021-01-01 03:00:00+00:00',\n               '2021-01-01 04:00:00+00:00', '2021-01-01 05:00:00+00:00',\n               '2021-01-01 06:00:00+00:00', '2021-01-01 07:00:00+00:00',\n               '2021-01-01 08:00:00+00:00', '2021-01-01 09:00:00+00:00'],\n              dtype='datetime64[ns, GMT]', freq=None)\n",
     "output_type": "stream"
    }
   ]
  },
  {
   "cell_type": "code",
   "metadata": {
    "tags": [],
    "cell_id": "00005-533383a7-b539-4f48-aca6-413f2c4d2ee2",
    "deepnote_to_be_reexecuted": false,
    "source_hash": "eba6f3d6",
    "execution_start": 1635252701765,
    "execution_millis": 50,
    "deepnote_cell_type": "code",
    "deepnote_cell_height": 214.125,
    "deepnote_output_heights": [
     117.125
    ]
   },
   "source": "dfgmt.tz_convert('utc')",
   "execution_count": null,
   "outputs": [
    {
     "output_type": "execute_result",
     "execution_count": 4,
     "data": {
      "text/plain": "DatetimeIndex(['2021-01-01 00:00:00+00:00', '2021-01-01 01:00:00+00:00',\n               '2021-01-01 02:00:00+00:00', '2021-01-01 03:00:00+00:00',\n               '2021-01-01 04:00:00+00:00', '2021-01-01 05:00:00+00:00',\n               '2021-01-01 06:00:00+00:00', '2021-01-01 07:00:00+00:00',\n               '2021-01-01 08:00:00+00:00', '2021-01-01 09:00:00+00:00'],\n              dtype='datetime64[ns, UTC]', freq=None)"
     },
     "metadata": {}
    }
   ]
  },
  {
   "cell_type": "code",
   "metadata": {
    "tags": [],
    "cell_id": "00006-3a41b227-6eba-4be4-ad62-b847ebd86009",
    "deepnote_to_be_reexecuted": false,
    "source_hash": "88e4f9c9",
    "execution_start": 1635252701812,
    "execution_millis": 83,
    "owner_user_id": "9b0760ba-3411-45b0-8bd6-a9ad56544035",
    "deepnote_cell_type": "code",
    "deepnote_cell_height": 180.1875
   },
   "source": "import pytz\nprint(convert_to_datetime(\"Sat Apr 14 21:05:23 GMT-00:00 2018\").replace(tzinfo=pytz.UTC))\n",
   "execution_count": null,
   "outputs": [
    {
     "output_type": "error",
     "ename": "NameError",
     "evalue": "name 'convert_to_datetime' is not defined",
     "traceback": [
      "\u001b[0;31m---------------------------------------------------------------------------\u001b[0m",
      "\u001b[0;31mNameError\u001b[0m                                 Traceback (most recent call last)",
      "\u001b[0;32m<ipython-input-5-94dcb00a0e0d>\u001b[0m in \u001b[0;36m<module>\u001b[0;34m\u001b[0m\n\u001b[1;32m      1\u001b[0m \u001b[0;32mimport\u001b[0m \u001b[0mpytz\u001b[0m\u001b[0;34m\u001b[0m\u001b[0;34m\u001b[0m\u001b[0m\n\u001b[0;32m----> 2\u001b[0;31m \u001b[0mprint\u001b[0m\u001b[0;34m(\u001b[0m\u001b[0mconvert_to_datetime\u001b[0m\u001b[0;34m(\u001b[0m\u001b[0;34m\"Sat Apr 14 21:05:23 GMT-00:00 2018\"\u001b[0m\u001b[0;34m)\u001b[0m\u001b[0;34m.\u001b[0m\u001b[0mreplace\u001b[0m\u001b[0;34m(\u001b[0m\u001b[0mtzinfo\u001b[0m\u001b[0;34m=\u001b[0m\u001b[0mpytz\u001b[0m\u001b[0;34m.\u001b[0m\u001b[0mUTC\u001b[0m\u001b[0;34m)\u001b[0m\u001b[0;34m)\u001b[0m\u001b[0;34m\u001b[0m\u001b[0;34m\u001b[0m\u001b[0m\n\u001b[0m",
      "\u001b[0;31mNameError\u001b[0m: name 'convert_to_datetime' is not defined"
     ]
    }
   ]
  },
  {
   "cell_type": "code",
   "metadata": {
    "tags": [],
    "cell_id": "00007-6a269895-197f-4ff8-8f66-6444a54bf92f",
    "deepnote_to_be_reexecuted": true,
    "source_hash": "4478f030",
    "deepnote_cell_type": "code",
    "deepnote_cell_height": 333
   },
   "source": "import matplotlib.pyplot as plt #导入库\nimport numpy as np\nh, v0, g = 3000, 200, 9.8       #设置参数值\nt = eval(input())               #读取时刻t\n# t_max = np.sqrt(2*h/g)\nt_max = (2*h/g)**0.5\nz = t_max/(30-1)\nwhile t <= t_max:\n    xt = v0*t                       #计算横坐标\n    yt = h-1/2*g*t**2               #计算纵坐标\n    plt.plot(xt,yt,'ro')           #绘制点(xt,yt)\n    t += z\nplt.grid('on')                  #显示网格线\nplt.axis([0,5000,0,h])          #设置坐标轴范围\nplt.show() ",
   "execution_count": null,
   "outputs": []
  },
  {
   "cell_type": "code",
   "metadata": {
    "tags": [],
    "cell_id": "00008-640a7190-780f-4274-a301-b1ce73cc638c",
    "deepnote_to_be_reexecuted": true,
    "source_hash": "7d6f939e",
    "execution_start": 1634651704628,
    "execution_millis": 316,
    "deepnote_cell_type": "code",
    "deepnote_cell_height": 603,
    "deepnote_output_heights": [
     254
    ]
   },
   "source": "import matplotlib.pyplot as plt #导入库\nimport numpy as np\nh, v0, g = 3000, 200, 9.8       #设置参数值\nt = 0              #读取时刻t\n# t_max = np.sqrt(2*h/g)\nt_max = (2*h/g)**0.5\nz = t_max/(30-1)\nwhile t <= t_max:\n    xt = v0*t                       #计算横坐标\n    yt = h-1/2*g*t**2               #计算纵坐标\n    plt.plot(xt,yt,'ro')           #绘制点(xt,yt)\n    t += z\nplt.grid('on')                  #显示网格线\nplt.axis([0,5000,0,h])          #设置坐标轴范围\nplt.show() ",
   "execution_count": null,
   "outputs": [
    {
     "data": {
      "text/plain": "<Figure size 432x288 with 1 Axes>",
      "image/png": "[encoded data removed]"
     },
     "metadata": {
      "needs_background": "light",
      "image/png": {
       "width": 394,
       "height": 252
      }
     },
     "output_type": "display_data"
    }
   ]
  },
  {
   "cell_type": "code",
   "metadata": {
    "tags": [],
    "cell_id": "00009-0273f821-f780-455a-862f-e0dd7bd1780f",
    "deepnote_to_be_reexecuted": false,
    "source_hash": "19b9e721",
    "execution_start": 1635252707531,
    "execution_millis": 7,
    "deepnote_cell_type": "code",
    "deepnote_cell_height": 408.9375
   },
   "source": "import numpy as np\nh, v0, g = 3000, 200, 9.8\nn = 30\ntmax=(2*h/g)**0.5\n########## Begin ##########\nt = np.arange(0,tmax,n)\nxt = v0*t\nyt = h- 0.5*g*t**2\nprint(tmax)\nprint(t)\nprint('===')\nprint(xt)\nprint(yt)",
   "execution_count": null,
   "outputs": [
    {
     "name": "stdout",
     "text": "24.743582965269674\n[0.]\n===\n[0.]\n[3000.]\n",
     "output_type": "stream"
    }
   ]
  },
  {
   "cell_type": "code",
   "metadata": {
    "tags": [],
    "cell_id": "00010-60ea0c70-0fa5-4feb-aa44-7b862116ec37",
    "deepnote_to_be_reexecuted": true,
    "source_hash": "364e58cc",
    "execution_start": 1635252622732,
    "execution_millis": 2,
    "deepnote_cell_type": "code",
    "deepnote_cell_height": 148.1875
   },
   "source": "import numpy as np    #导入numpy库，取别名叫np\nA = np.arange(0.1,1,0.2) #调用arange函数，将结果赋给A\nprint(A) ",
   "execution_count": null,
   "outputs": [
    {
     "name": "stdout",
     "text": "[0.1 0.3 0.5 0.7 0.9]\n",
     "output_type": "stream"
    }
   ]
  },
  {
   "cell_type": "markdown",
   "source": "<a style='text-decoration:none;line-height:16px;display:flex;color:#5B5B62;padding:10px;justify-content:end;' href='https://deepnote.com?utm_source=created-in-deepnote-cell&projectId=5b281c91-03db-4230-91f5-eb5b0507f930' target=\"_blank\">\n<img alt='Created in deepnote.com' style='display:inline;max-height:16px;margin:0px;margin-right:7.5px;' src='data:image/svg+xml;base64,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' > </img>\nCreated in <span style='font-weight:600;margin-left:4px;'>Deepnote</span></a>",
   "metadata": {
    "tags": [],
    "created_in_deepnote_cell": true,
    "deepnote_cell_type": "markdown"
   }
  }
 ],
 "nbformat": 4,
 "nbformat_minor": 2,
 "metadata": {
  "orig_nbformat": 2,
  "deepnote": {
   "is_reactive": false
  },
  "deepnote_notebook_id": "e8a6c797-abe6-4561-9b12-6eb784c1fd7d",
  "deepnote_execution_queue": []
 }
}